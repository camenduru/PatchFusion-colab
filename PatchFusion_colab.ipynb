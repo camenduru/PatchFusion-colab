{
  "cells": [
    {
      "cell_type": "markdown",
      "metadata": {
        "id": "view-in-github"
      },
      "source": [
        "[![Open In Colab](https://colab.research.google.com/assets/colab-badge.svg)](https://colab.research.google.com/github/camenduru/PatchFusion-colab/blob/main/PatchFusion_colab.ipynb)"
      ]
    },
    {
      "cell_type": "code",
      "execution_count": null,
      "metadata": {
        "id": "VjYy0F2gZIPR"
      },
      "outputs": [],
      "source": [
        "%cd /content\n",
        "!git clone -b dev https://github.com/camenduru/PatchFusion-hf\n",
        "%cd /content/PatchFusion-hf\n",
        "\n",
        "!pip install -q torch==2.0.1+cu118 torchvision==0.15.2+cu118 torchaudio==2.0.2+cu118 torchtext==0.15.2 torchdata==0.6.1 --extra-index-url https://download.pytorch.org/whl/cu118 -U\n",
        "!pip install -q einops gradio==4.8.0 trimesh json5 timm==0.6.12 open_clip_torch pytorch-lightning==1.8.3.post0 omegaconf\n",
        "\n",
        "!wget https://huggingface.co/spaces/zhyever/PatchFusion/resolve/main/examples/1_depth.png?download=true -O /content/PatchFusion-hf/examples/1_depth.png\n",
        "!wget https://huggingface.co/spaces/zhyever/PatchFusion/resolve/main/examples/1_gen.png?download=true -O /content/PatchFusion-hf/examples/1_gen.png\n",
        "!wget https://huggingface.co/spaces/zhyever/PatchFusion/resolve/main/examples/2_depth.png?download=true -O /content/PatchFusion-hf/examples/2_depth.png\n",
        "!wget https://huggingface.co/spaces/zhyever/PatchFusion/resolve/main/examples/2_gen.png?download=true -O /content/PatchFusion-hf/examples/2_gen.png\n",
        "!wget https://huggingface.co/spaces/zhyever/PatchFusion/resolve/main/examples/4_depth.png?download=true -O /content/PatchFusion-hf/examples/4_depth.png\n",
        "!wget https://huggingface.co/spaces/zhyever/PatchFusion/resolve/main/examples/4_gen.png?download=true -O /content/PatchFusion-hf/examples/4_gen.png\n",
        "!wget https://huggingface.co/spaces/zhyever/PatchFusion/resolve/main/examples/example_1.jpeg?download=true -O /content/PatchFusion-hf/examples/example_1.jpeg\n",
        "!wget https://huggingface.co/spaces/zhyever/PatchFusion/resolve/main/examples/example_3.jpeg?download=true -O /content/PatchFusion-hf/examples/example_3.jpeg\n",
        "!wget https://huggingface.co/spaces/zhyever/PatchFusion/resolve/main/examples/example_4.jpeg?download=true -O /content/PatchFusion-hf/examples/example_4.jpeg\n",
        "!wget https://huggingface.co/spaces/zhyever/PatchFusion/resolve/main/examples/example_6.png?download=true -O /content/PatchFusion-hf/examples/example_6.png\n",
        "\n",
        "!python app.py"
      ]
    }
  ],
  "metadata": {
    "accelerator": "GPU",
    "colab": {
      "gpuType": "T4",
      "provenance": []
    },
    "kernelspec": {
      "display_name": "Python 3",
      "name": "python3"
    },
    "language_info": {
      "name": "python"
    }
  },
  "nbformat": 4,
  "nbformat_minor": 0
}
